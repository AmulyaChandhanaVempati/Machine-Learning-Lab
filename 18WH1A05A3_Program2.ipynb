{
 "cells": [
  {
   "cell_type": "code",
   "execution_count": 1,
   "metadata": {},
   "outputs": [
    {
     "name": "stdout",
     "output_type": "stream",
     "text": [
      "Collecting db-sqlite3\n",
      "  Downloading db-sqlite3-0.0.1.tar.gz (1.4 kB)\n",
      "Collecting db\n",
      "  Downloading db-0.1.1.tar.gz (3.4 kB)\n",
      "Collecting antiorm\n",
      "  Downloading antiorm-1.2.1.tar.gz (171 kB)\n",
      "Building wheels for collected packages: db-sqlite3, db, antiorm\n",
      "  Building wheel for db-sqlite3 (setup.py): started\n",
      "  Building wheel for db-sqlite3 (setup.py): finished with status 'done'\n",
      "  Created wheel for db-sqlite3: filename=db_sqlite3-0.0.1-py3-none-any.whl size=1801 sha256=4a5eabf942941a12d5b64588160ea1c05803fad0709349511d04e7380339098f\n",
      "  Stored in directory: c:\\users\\user\\appdata\\local\\pip\\cache\\wheels\\9a\\a0\\6f\\b4ceab4614797b65af7a296172bf4bdc106702d7f18beafa57\n",
      "  Building wheel for db (setup.py): started\n",
      "  Building wheel for db (setup.py): finished with status 'done'\n",
      "  Created wheel for db: filename=db-0.1.1-py3-none-any.whl size=3899 sha256=3ce6a56083c53eca349e1e12505061ee99cd5a81d24316aa5d3521c642ec7920\n",
      "  Stored in directory: c:\\users\\user\\appdata\\local\\pip\\cache\\wheels\\43\\94\\01\\2470e037a87c7f4fe93e4a110ee8c01b495d53db5de40b216b\n",
      "  Building wheel for antiorm (setup.py): started\n",
      "  Building wheel for antiorm (setup.py): finished with status 'done'\n",
      "  Created wheel for antiorm: filename=antiorm-1.2.1-py3-none-any.whl size=31670 sha256=49ac526dfbb935df984098d7369e3e90084023f714cd317f7d4314918d7cfc29\n",
      "  Stored in directory: c:\\users\\user\\appdata\\local\\pip\\cache\\wheels\\23\\fc\\3e\\c02e21af9692d533cae0374d54eb3502764cedb8a3edaf6e5c\n",
      "Successfully built db-sqlite3 db antiorm\n",
      "Installing collected packages: antiorm, db, db-sqlite3\n",
      "Successfully installed antiorm-1.2.1 db-0.1.1 db-sqlite3-0.0.1\n"
     ]
    }
   ],
   "source": [
    "!pip install db-sqlite3\n",
    "import sqlite3"
   ]
  },
  {
   "cell_type": "code",
   "execution_count": 2,
   "metadata": {},
   "outputs": [
    {
     "name": "stdout",
     "output_type": "stream",
     "text": [
      "Opened database successfully\n"
     ]
    }
   ],
   "source": [
    "conn=sqlite3.connect('exp2.db')\n",
    "cur=conn.cursor()\n",
    "conn = sqlite3.connect('test.db')\n",
    "print (\"Opened database successfully\");"
   ]
  },
  {
   "cell_type": "code",
   "execution_count": 3,
   "metadata": {},
   "outputs": [
    {
     "name": "stdout",
     "output_type": "stream",
     "text": [
      "Table created successfully\n"
     ]
    }
   ],
   "source": [
    "conn.execute('''CREATE TABLE COMPANY1\n",
    "         (ID INT PRIMARY KEY     NOT NULL,\n",
    "         NAME           TEXT    NOT NULL,\n",
    "         AGE            INT     NOT NULL,\n",
    "         ADDRESS        CHAR(50),\n",
    "         SALARY         REAL);''')\n",
    "print (\"Table created successfully\");"
   ]
  },
  {
   "cell_type": "code",
   "execution_count": 4,
   "metadata": {},
   "outputs": [
    {
     "name": "stdout",
     "output_type": "stream",
     "text": [
      "Records created successfully\n"
     ]
    }
   ],
   "source": [
    "conn.execute(\"INSERT INTO COMPANY1 (ID,NAME,AGE,ADDRESS,SALARY) \\\n",
    "      VALUES (1, 'Paul', 32, 'California', 20000.00 )\");\n",
    "\n",
    "conn.execute(\"INSERT INTO COMPANY1 (ID,NAME,AGE,ADDRESS,SALARY) \\\n",
    "      VALUES (2, 'Allen', 25, 'Texas', 15000.00 )\");\n",
    "\n",
    "conn.execute(\"INSERT INTO COMPANY1 (ID,NAME,AGE,ADDRESS,SALARY) \\\n",
    "      VALUES (3, 'Teddy', 23, 'Norway', 20000.00 )\");\n",
    "\n",
    "conn.execute(\"INSERT INTO COMPANY1 (ID,NAME,AGE,ADDRESS,SALARY) \\\n",
    "      VALUES (4, 'Mark', 25, 'Rich-Mond ', 65000.00 )\");\n",
    "\n",
    "conn.commit()\n",
    "print (\"Records created successfully\");"
   ]
  },
  {
   "cell_type": "code",
   "execution_count": 5,
   "metadata": {},
   "outputs": [
    {
     "name": "stdout",
     "output_type": "stream",
     "text": [
      "(1, 'Paul', 32, 'California', 20000.0)\n",
      "(2, 'Allen', 25, 'Texas', 15000.0)\n",
      "(3, 'Teddy', 23, 'Norway', 20000.0)\n",
      "(4, 'Mark', 25, 'Rich-Mond ', 65000.0)\n"
     ]
    }
   ],
   "source": [
    "for row in conn.execute('select * from COMPANY1'):\n",
    "        print(row)"
   ]
  },
  {
   "cell_type": "code",
   "execution_count": 6,
   "metadata": {},
   "outputs": [],
   "source": [
    "conn.commit()"
   ]
  },
  {
   "cell_type": "code",
   "execution_count": 7,
   "metadata": {},
   "outputs": [],
   "source": [
    "conn.close()"
   ]
  },
  {
   "cell_type": "code",
   "execution_count": null,
   "metadata": {},
   "outputs": [],
   "source": []
  }
 ],
 "metadata": {
  "kernelspec": {
   "display_name": "Python 3",
   "language": "python",
   "name": "python3"
  },
  "language_info": {
   "codemirror_mode": {
    "name": "ipython",
    "version": 3
   },
   "file_extension": ".py",
   "mimetype": "text/x-python",
   "name": "python",
   "nbconvert_exporter": "python",
   "pygments_lexer": "ipython3",
   "version": "3.8.5"
  }
 },
 "nbformat": 4,
 "nbformat_minor": 4
}
